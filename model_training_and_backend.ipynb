{
 "cells": [
  {
   "cell_type": "code",
   "execution_count": 1,
   "id": "8edcea12",
   "metadata": {},
   "outputs": [],
   "source": [
    "import os\n",
    "import pandas as pd\n",
    "import numpy as np\n",
    "import matplotlib.pyplot as plt\n",
    "import seaborn as sns; sns.set_palette('Blues')\n",
    "\n",
    "import base64\n",
    "import json\n",
    "from requests import post, get\n",
    "import math\n",
    "\n",
    "os.chdir('/Users/ashleyyan/Downloads/Datasets')"
   ]
  },
  {
   "cell_type": "markdown",
   "id": "f3f0807b",
   "metadata": {},
   "source": [
    "## Kaggle link: https://www.kaggle.com/datasets/abdullahorzan/moodify-dataset\n",
    "Labels: {'sad': 0, 'happy': 1, 'energetic': 2, 'calm': 3}"
   ]
  },
  {
   "cell_type": "code",
   "execution_count": 2,
   "id": "2d0e1800",
   "metadata": {
    "scrolled": true
   },
   "outputs": [
    {
     "data": {
      "text/html": [
       "<div>\n",
       "<style scoped>\n",
       "    .dataframe tbody tr th:only-of-type {\n",
       "        vertical-align: middle;\n",
       "    }\n",
       "\n",
       "    .dataframe tbody tr th {\n",
       "        vertical-align: top;\n",
       "    }\n",
       "\n",
       "    .dataframe thead th {\n",
       "        text-align: right;\n",
       "    }\n",
       "</style>\n",
       "<table border=\"1\" class=\"dataframe\">\n",
       "  <thead>\n",
       "    <tr style=\"text-align: right;\">\n",
       "      <th></th>\n",
       "      <th>duration (ms)</th>\n",
       "      <th>danceability</th>\n",
       "      <th>energy</th>\n",
       "      <th>loudness</th>\n",
       "      <th>speechiness</th>\n",
       "      <th>acousticness</th>\n",
       "      <th>instrumentalness</th>\n",
       "      <th>liveness</th>\n",
       "      <th>valence</th>\n",
       "      <th>tempo</th>\n",
       "      <th>labels</th>\n",
       "      <th>uri</th>\n",
       "    </tr>\n",
       "  </thead>\n",
       "  <tbody>\n",
       "    <tr>\n",
       "      <th>0</th>\n",
       "      <td>195000.0</td>\n",
       "      <td>0.611</td>\n",
       "      <td>0.614</td>\n",
       "      <td>-8.815</td>\n",
       "      <td>0.0672</td>\n",
       "      <td>0.0169</td>\n",
       "      <td>0.000794</td>\n",
       "      <td>0.7530</td>\n",
       "      <td>0.520</td>\n",
       "      <td>128.050</td>\n",
       "      <td>2</td>\n",
       "      <td>spotify:track:3v6sBj3swihU8pXQQHhDZo</td>\n",
       "    </tr>\n",
       "    <tr>\n",
       "      <th>1</th>\n",
       "      <td>194641.0</td>\n",
       "      <td>0.638</td>\n",
       "      <td>0.781</td>\n",
       "      <td>-6.848</td>\n",
       "      <td>0.0285</td>\n",
       "      <td>0.0118</td>\n",
       "      <td>0.009530</td>\n",
       "      <td>0.3490</td>\n",
       "      <td>0.250</td>\n",
       "      <td>122.985</td>\n",
       "      <td>1</td>\n",
       "      <td>spotify:track:7KCWmFdw0TzoJbKtqRRzJO</td>\n",
       "    </tr>\n",
       "    <tr>\n",
       "      <th>2</th>\n",
       "      <td>217573.0</td>\n",
       "      <td>0.560</td>\n",
       "      <td>0.810</td>\n",
       "      <td>-8.029</td>\n",
       "      <td>0.0872</td>\n",
       "      <td>0.0071</td>\n",
       "      <td>0.000008</td>\n",
       "      <td>0.2410</td>\n",
       "      <td>0.247</td>\n",
       "      <td>170.044</td>\n",
       "      <td>1</td>\n",
       "      <td>spotify:track:2CY92qejUrhyPUASawNVRr</td>\n",
       "    </tr>\n",
       "    <tr>\n",
       "      <th>3</th>\n",
       "      <td>443478.0</td>\n",
       "      <td>0.525</td>\n",
       "      <td>0.699</td>\n",
       "      <td>-4.571</td>\n",
       "      <td>0.0353</td>\n",
       "      <td>0.0178</td>\n",
       "      <td>0.000088</td>\n",
       "      <td>0.0888</td>\n",
       "      <td>0.199</td>\n",
       "      <td>92.011</td>\n",
       "      <td>0</td>\n",
       "      <td>spotify:track:11BPfwVbB7vok7KfjBeW4k</td>\n",
       "    </tr>\n",
       "    <tr>\n",
       "      <th>4</th>\n",
       "      <td>225862.0</td>\n",
       "      <td>0.367</td>\n",
       "      <td>0.771</td>\n",
       "      <td>-5.863</td>\n",
       "      <td>0.1060</td>\n",
       "      <td>0.3650</td>\n",
       "      <td>0.000001</td>\n",
       "      <td>0.0965</td>\n",
       "      <td>0.163</td>\n",
       "      <td>115.917</td>\n",
       "      <td>1</td>\n",
       "      <td>spotify:track:3yUJKPsjvThlcQWTS9ttYx</td>\n",
       "    </tr>\n",
       "  </tbody>\n",
       "</table>\n",
       "</div>"
      ],
      "text/plain": [
       "   duration (ms)  danceability  energy  loudness  speechiness  acousticness  \\\n",
       "0       195000.0         0.611   0.614    -8.815       0.0672        0.0169   \n",
       "1       194641.0         0.638   0.781    -6.848       0.0285        0.0118   \n",
       "2       217573.0         0.560   0.810    -8.029       0.0872        0.0071   \n",
       "3       443478.0         0.525   0.699    -4.571       0.0353        0.0178   \n",
       "4       225862.0         0.367   0.771    -5.863       0.1060        0.3650   \n",
       "\n",
       "   instrumentalness  liveness  valence    tempo  labels  \\\n",
       "0          0.000794    0.7530    0.520  128.050       2   \n",
       "1          0.009530    0.3490    0.250  122.985       1   \n",
       "2          0.000008    0.2410    0.247  170.044       1   \n",
       "3          0.000088    0.0888    0.199   92.011       0   \n",
       "4          0.000001    0.0965    0.163  115.917       1   \n",
       "\n",
       "                                    uri  \n",
       "0  spotify:track:3v6sBj3swihU8pXQQHhDZo  \n",
       "1  spotify:track:7KCWmFdw0TzoJbKtqRRzJO  \n",
       "2  spotify:track:2CY92qejUrhyPUASawNVRr  \n",
       "3  spotify:track:11BPfwVbB7vok7KfjBeW4k  \n",
       "4  spotify:track:3yUJKPsjvThlcQWTS9ttYx  "
      ]
     },
     "execution_count": 2,
     "metadata": {},
     "output_type": "execute_result"
    }
   ],
   "source": [
    "df = pd.read_csv('278k_labelled_uri.csv', index_col=0)\n",
    "df = df.drop(['Unnamed: 0', 'spec_rate'], axis = 1)\n",
    "df.head()"
   ]
  },
  {
   "cell_type": "code",
   "execution_count": 3,
   "id": "0c53e803",
   "metadata": {},
   "outputs": [
    {
     "data": {
      "text/plain": [
       "duration (ms)       False\n",
       "danceability        False\n",
       "energy              False\n",
       "loudness            False\n",
       "speechiness         False\n",
       "acousticness        False\n",
       "instrumentalness    False\n",
       "liveness            False\n",
       "valence             False\n",
       "tempo               False\n",
       "labels              False\n",
       "uri                 False\n",
       "dtype: bool"
      ]
     },
     "execution_count": 3,
     "metadata": {},
     "output_type": "execute_result"
    }
   ],
   "source": [
    "df.isna().any()"
   ]
  },
  {
   "cell_type": "code",
   "execution_count": 4,
   "id": "1468836c",
   "metadata": {},
   "outputs": [
    {
     "data": {
      "text/plain": [
       "<Axes: xlabel='labels', ylabel='count'>"
      ]
     },
     "execution_count": 4,
     "metadata": {},
     "output_type": "execute_result"
    },
    {
     "data": {
      "image/png": "[encoded data removed]",
      "text/plain": [
       "<Figure size 640x480 with 1 Axes>"
      ]
     },
     "metadata": {},
     "output_type": "display_data"
    }
   ],
   "source": [
    "sns.countplot(x = df[\"labels\"])"
   ]
  },
  {
   "cell_type": "code",
   "execution_count": 5,
   "id": "4039e2e9",
   "metadata": {},
   "outputs": [
    {
     "data": {
      "text/html": [
       "<div>\n",
       "<style scoped>\n",
       "    .dataframe tbody tr th:only-of-type {\n",
       "        vertical-align: middle;\n",
       "    }\n",
       "\n",
       "    .dataframe tbody tr th {\n",
       "        vertical-align: top;\n",
       "    }\n",
       "\n",
       "    .dataframe thead th {\n",
       "        text-align: right;\n",
       "    }\n",
       "</style>\n",
       "<table border=\"1\" class=\"dataframe\">\n",
       "  <thead>\n",
       "    <tr style=\"text-align: right;\">\n",
       "      <th></th>\n",
       "      <th>duration (ms)</th>\n",
       "      <th>danceability</th>\n",
       "      <th>energy</th>\n",
       "      <th>loudness</th>\n",
       "      <th>speechiness</th>\n",
       "      <th>acousticness</th>\n",
       "      <th>instrumentalness</th>\n",
       "      <th>liveness</th>\n",
       "      <th>valence</th>\n",
       "      <th>tempo</th>\n",
       "      <th>labels</th>\n",
       "      <th>uri</th>\n",
       "    </tr>\n",
       "  </thead>\n",
       "  <tbody>\n",
       "    <tr>\n",
       "      <th>3</th>\n",
       "      <td>443478.0</td>\n",
       "      <td>0.525</td>\n",
       "      <td>0.699</td>\n",
       "      <td>-4.571</td>\n",
       "      <td>0.0353</td>\n",
       "      <td>0.0178</td>\n",
       "      <td>0.000088</td>\n",
       "      <td>0.0888</td>\n",
       "      <td>0.199</td>\n",
       "      <td>92.011</td>\n",
       "      <td>0</td>\n",
       "      <td>spotify:track:11BPfwVbB7vok7KfjBeW4k</td>\n",
       "    </tr>\n",
       "    <tr>\n",
       "      <th>8</th>\n",
       "      <td>216187.0</td>\n",
       "      <td>0.516</td>\n",
       "      <td>0.692</td>\n",
       "      <td>-4.842</td>\n",
       "      <td>0.0279</td>\n",
       "      <td>0.0875</td>\n",
       "      <td>0.009300</td>\n",
       "      <td>0.0900</td>\n",
       "      <td>0.181</td>\n",
       "      <td>83.571</td>\n",
       "      <td>0</td>\n",
       "      <td>spotify:track:6TwrBbgTaB5gpl06YQoRKy</td>\n",
       "    </tr>\n",
       "    <tr>\n",
       "      <th>9</th>\n",
       "      <td>232333.0</td>\n",
       "      <td>0.548</td>\n",
       "      <td>0.509</td>\n",
       "      <td>-7.937</td>\n",
       "      <td>0.0288</td>\n",
       "      <td>0.2610</td>\n",
       "      <td>0.702000</td>\n",
       "      <td>0.0790</td>\n",
       "      <td>0.484</td>\n",
       "      <td>78.974</td>\n",
       "      <td>0</td>\n",
       "      <td>spotify:track:5SDEirHg6Y8fCYuKMnAaC5</td>\n",
       "    </tr>\n",
       "    <tr>\n",
       "      <th>20</th>\n",
       "      <td>270255.0</td>\n",
       "      <td>0.523</td>\n",
       "      <td>0.544</td>\n",
       "      <td>-6.585</td>\n",
       "      <td>0.0578</td>\n",
       "      <td>0.4650</td>\n",
       "      <td>0.000000</td>\n",
       "      <td>0.1210</td>\n",
       "      <td>0.268</td>\n",
       "      <td>75.053</td>\n",
       "      <td>0</td>\n",
       "      <td>spotify:track:4R06uQw0yBQXWmatdIOlch</td>\n",
       "    </tr>\n",
       "    <tr>\n",
       "      <th>28</th>\n",
       "      <td>197246.0</td>\n",
       "      <td>0.787</td>\n",
       "      <td>0.462</td>\n",
       "      <td>-7.985</td>\n",
       "      <td>0.0908</td>\n",
       "      <td>0.7240</td>\n",
       "      <td>0.000187</td>\n",
       "      <td>0.1020</td>\n",
       "      <td>0.554</td>\n",
       "      <td>86.994</td>\n",
       "      <td>0</td>\n",
       "      <td>spotify:track:0kJUHCpOr6CFU15kEKAgVF</td>\n",
       "    </tr>\n",
       "    <tr>\n",
       "      <th>...</th>\n",
       "      <td>...</td>\n",
       "      <td>...</td>\n",
       "      <td>...</td>\n",
       "      <td>...</td>\n",
       "      <td>...</td>\n",
       "      <td>...</td>\n",
       "      <td>...</td>\n",
       "      <td>...</td>\n",
       "      <td>...</td>\n",
       "      <td>...</td>\n",
       "      <td>...</td>\n",
       "      <td>...</td>\n",
       "    </tr>\n",
       "    <tr>\n",
       "      <th>277907</th>\n",
       "      <td>174000.0</td>\n",
       "      <td>0.690</td>\n",
       "      <td>0.439</td>\n",
       "      <td>-9.476</td>\n",
       "      <td>0.0289</td>\n",
       "      <td>0.5480</td>\n",
       "      <td>0.001170</td>\n",
       "      <td>0.1630</td>\n",
       "      <td>0.261</td>\n",
       "      <td>114.118</td>\n",
       "      <td>0</td>\n",
       "      <td>spotify:track:3o2tw8emnaXFAIKBYdKW5T</td>\n",
       "    </tr>\n",
       "    <tr>\n",
       "      <th>277909</th>\n",
       "      <td>307880.0</td>\n",
       "      <td>0.577</td>\n",
       "      <td>0.749</td>\n",
       "      <td>-7.215</td>\n",
       "      <td>0.0279</td>\n",
       "      <td>0.5990</td>\n",
       "      <td>0.011500</td>\n",
       "      <td>0.1830</td>\n",
       "      <td>0.255</td>\n",
       "      <td>130.970</td>\n",
       "      <td>0</td>\n",
       "      <td>spotify:track:0BCPKOYdS2jbQ8iyB56Zns</td>\n",
       "    </tr>\n",
       "    <tr>\n",
       "      <th>277910</th>\n",
       "      <td>450507.0</td>\n",
       "      <td>0.301</td>\n",
       "      <td>0.853</td>\n",
       "      <td>-2.264</td>\n",
       "      <td>0.0369</td>\n",
       "      <td>0.2080</td>\n",
       "      <td>0.003280</td>\n",
       "      <td>0.3540</td>\n",
       "      <td>0.112</td>\n",
       "      <td>150.423</td>\n",
       "      <td>0</td>\n",
       "      <td>spotify:track:2UjLzxf4oYjHOVOBoVojlL</td>\n",
       "    </tr>\n",
       "    <tr>\n",
       "      <th>277927</th>\n",
       "      <td>202693.0</td>\n",
       "      <td>0.707</td>\n",
       "      <td>0.299</td>\n",
       "      <td>-12.468</td>\n",
       "      <td>0.0342</td>\n",
       "      <td>0.4430</td>\n",
       "      <td>0.007590</td>\n",
       "      <td>0.0976</td>\n",
       "      <td>0.480</td>\n",
       "      <td>141.269</td>\n",
       "      <td>0</td>\n",
       "      <td>spotify:track:4M13hC6sdFmvKCJ2MhKEbi</td>\n",
       "    </tr>\n",
       "    <tr>\n",
       "      <th>277928</th>\n",
       "      <td>369600.0</td>\n",
       "      <td>0.482</td>\n",
       "      <td>0.721</td>\n",
       "      <td>-6.839</td>\n",
       "      <td>0.0321</td>\n",
       "      <td>0.7310</td>\n",
       "      <td>0.000000</td>\n",
       "      <td>0.1890</td>\n",
       "      <td>0.557</td>\n",
       "      <td>95.263</td>\n",
       "      <td>0</td>\n",
       "      <td>spotify:track:3AhXZa8sUQht0UEdBJgpGc</td>\n",
       "    </tr>\n",
       "  </tbody>\n",
       "</table>\n",
       "<p>82058 rows × 12 columns</p>\n",
       "</div>"
      ],
      "text/plain": [
       "        duration (ms)  danceability  energy  loudness  speechiness  \\\n",
       "3            443478.0         0.525   0.699    -4.571       0.0353   \n",
       "8            216187.0         0.516   0.692    -4.842       0.0279   \n",
       "9            232333.0         0.548   0.509    -7.937       0.0288   \n",
       "20           270255.0         0.523   0.544    -6.585       0.0578   \n",
       "28           197246.0         0.787   0.462    -7.985       0.0908   \n",
       "...               ...           ...     ...       ...          ...   \n",
       "277907       174000.0         0.690   0.439    -9.476       0.0289   \n",
       "277909       307880.0         0.577   0.749    -7.215       0.0279   \n",
       "277910       450507.0         0.301   0.853    -2.264       0.0369   \n",
       "277927       202693.0         0.707   0.299   -12.468       0.0342   \n",
       "277928       369600.0         0.482   0.721    -6.839       0.0321   \n",
       "\n",
       "        acousticness  instrumentalness  liveness  valence    tempo  labels  \\\n",
       "3             0.0178          0.000088    0.0888    0.199   92.011       0   \n",
       "8             0.0875          0.009300    0.0900    0.181   83.571       0   \n",
       "9             0.2610          0.702000    0.0790    0.484   78.974       0   \n",
       "20            0.4650          0.000000    0.1210    0.268   75.053       0   \n",
       "28            0.7240          0.000187    0.1020    0.554   86.994       0   \n",
       "...              ...               ...       ...      ...      ...     ...   \n",
       "277907        0.5480          0.001170    0.1630    0.261  114.118       0   \n",
       "277909        0.5990          0.011500    0.1830    0.255  130.970       0   \n",
       "277910        0.2080          0.003280    0.3540    0.112  150.423       0   \n",
       "277927        0.4430          0.007590    0.0976    0.480  141.269       0   \n",
       "277928        0.7310          0.000000    0.1890    0.557   95.263       0   \n",
       "\n",
       "                                         uri  \n",
       "3       spotify:track:11BPfwVbB7vok7KfjBeW4k  \n",
       "8       spotify:track:6TwrBbgTaB5gpl06YQoRKy  \n",
       "9       spotify:track:5SDEirHg6Y8fCYuKMnAaC5  \n",
       "20      spotify:track:4R06uQw0yBQXWmatdIOlch  \n",
       "28      spotify:track:0kJUHCpOr6CFU15kEKAgVF  \n",
       "...                                      ...  \n",
       "277907  spotify:track:3o2tw8emnaXFAIKBYdKW5T  \n",
       "277909  spotify:track:0BCPKOYdS2jbQ8iyB56Zns  \n",
       "277910  spotify:track:2UjLzxf4oYjHOVOBoVojlL  \n",
       "277927  spotify:track:4M13hC6sdFmvKCJ2MhKEbi  \n",
       "277928  spotify:track:3AhXZa8sUQht0UEdBJgpGc  \n",
       "\n",
       "[82058 rows x 12 columns]"
      ]
     },
     "execution_count": 5,
     "metadata": {},
     "output_type": "execute_result"
    }
   ],
   "source": [
    "df.query('labels == 0')"
   ]
  },
  {
   "cell_type": "code",
   "execution_count": 6,
   "id": "d287b940",
   "metadata": {},
   "outputs": [
    {
     "data": {
      "text/plain": [
       "duration (ms)       114072\n",
       "danceability          1327\n",
       "energy                2778\n",
       "loudness             32201\n",
       "speechiness           1640\n",
       "acousticness          5177\n",
       "instrumentalness      5402\n",
       "liveness              1766\n",
       "valence               1941\n",
       "tempo                93680\n",
       "labels                   4\n",
       "uri                 277938\n",
       "dtype: int64"
      ]
     },
     "execution_count": 6,
     "metadata": {},
     "output_type": "execute_result"
    }
   ],
   "source": [
    "df.nunique()"
   ]
  },
  {
   "cell_type": "code",
   "execution_count": 7,
   "id": "e64459a0",
   "metadata": {},
   "outputs": [],
   "source": [
    "df = df.sample(n=5000)"
   ]
  },
  {
   "cell_type": "code",
   "execution_count": 8,
   "id": "9a2b3a13",
   "metadata": {
    "scrolled": false
   },
   "outputs": [
    {
     "data": {
      "text/plain": [
       "<Axes: xlabel='labels', ylabel='count'>"
      ]
     },
     "execution_count": 8,
     "metadata": {},
     "output_type": "execute_result"
    },
    {
     "data": {
      "image/png": "[encoded data removed]",
      "text/plain": [
       "<Figure size 640x480 with 1 Axes>"
      ]
     },
     "metadata": {},
     "output_type": "display_data"
    }
   ],
   "source": [
    "sns.countplot(x = df['labels'])"
   ]
  },
  {
   "cell_type": "code",
   "execution_count": 33,
   "id": "0de29fad",
   "metadata": {},
   "outputs": [],
   "source": [
    "from sklearn.model_selection import train_test_split\n",
    "from xgboost import XGBClassifier\n",
    "from sklearn import metrics\n",
    "from sklearn.preprocessing import StandardScaler"
   ]
  },
  {
   "cell_type": "code",
   "execution_count": 34,
   "id": "150ff4b5",
   "metadata": {},
   "outputs": [],
   "source": [
    "y = df['labels']\n",
    "X = df.drop(['uri', 'labels'], axis = 1) \n",
    "# for actual resume project, do feature engineering to remove insignificant features to avoid overfitting"
   ]
  },
  {
   "cell_type": "code",
   "execution_count": 35,
   "id": "856d8512",
   "metadata": {},
   "outputs": [],
   "source": [
    "X_train, X_test, y_train, y_test = train_test_split(X, y, test_size=0.2, random_state=42)"
   ]
  },
  {
   "cell_type": "code",
   "execution_count": 36,
   "id": "2ed0dff1",
   "metadata": {},
   "outputs": [],
   "source": [
    "sc = StandardScaler()\n",
    "X_train = sc.fit_transform(X_train)\n",
    "X_test = sc.transform(X_test)"
   ]
  },
  {
   "cell_type": "code",
   "execution_count": 37,
   "id": "a02225a4",
   "metadata": {},
   "outputs": [
    {
     "name": "stdout",
     "output_type": "stream",
     "text": [
      "Accuracy: 0.919\n"
     ]
    }
   ],
   "source": [
    "xgb = XGBClassifier()\n",
    "xgb.fit(X_train, y_train)\n",
    "y_pred = xgb.predict(X_test)\n",
    "print(\"Accuracy:\", metrics.accuracy_score(y_test, y_pred))"
   ]
  },
  {
   "cell_type": "code",
   "execution_count": 38,
   "id": "966eaafd",
   "metadata": {},
   "outputs": [
    {
     "data": {
      "image/png": "[encoded data removed]",
      "text/plain": [
       "<Figure size 1211.11x300 with 4 Axes>"
      ]
     },
     "metadata": {},
     "output_type": "display_data"
    }
   ],
   "source": [
    "g = sns.FacetGrid(df, col=\"labels\")\n",
    "g.map(plt.scatter, \"loudness\", \"energy\", alpha=.6)\n",
    "g.add_legend()\n",
    "plt.show()"
   ]
  },
  {
   "cell_type": "code",
   "execution_count": 15,
   "id": "177b7fd4",
   "metadata": {},
   "outputs": [],
   "source": [
    "from sklearn.ensemble import RandomForestClassifier\n",
    "from yellowbrick.model_selection import learning_curve"
   ]
  },
  {
   "cell_type": "code",
   "execution_count": 16,
   "id": "ba9aa9d7",
   "metadata": {},
   "outputs": [
    {
     "data": {
      "image/png": "[encoded data removed]",
      "text/plain": [
       "<Figure size 800x550 with 1 Axes>"
      ]
     },
     "metadata": {},
     "output_type": "display_data"
    },
    {
     "ename": "ValueError",
     "evalue": "The truth value of an array with more than one element is ambiguous. Use a.any() or a.all()",
     "output_type": "error",
     "traceback": [
      "\u001b[0;31m---------------------------------------------------------------------------\u001b[0m",
      "\u001b[0;31mValueError\u001b[0m                                Traceback (most recent call last)",
      "Cell \u001b[0;32mIn[16], line 2\u001b[0m\n\u001b[1;32m      1\u001b[0m rfc \u001b[38;5;241m=\u001b[39m RandomForestClassifier(n_estimators\u001b[38;5;241m=\u001b[39m\u001b[38;5;241m100\u001b[39m, max_depth\u001b[38;5;241m=\u001b[39m\u001b[38;5;241m3\u001b[39m, random_state\u001b[38;5;241m=\u001b[39m\u001b[38;5;241m0\u001b[39m)\n\u001b[0;32m----> 2\u001b[0m \u001b[38;5;28;43mprint\u001b[39;49m\u001b[43m(\u001b[49m\u001b[43mlearning_curve\u001b[49m\u001b[43m(\u001b[49m\u001b[43mrfc\u001b[49m\u001b[43m,\u001b[49m\u001b[43m \u001b[49m\u001b[43mX\u001b[49m\u001b[43m,\u001b[49m\u001b[43m \u001b[49m\u001b[43my\u001b[49m\u001b[43m,\u001b[49m\u001b[43m \u001b[49m\u001b[43mcv\u001b[49m\u001b[38;5;241;43m=\u001b[39;49m\u001b[38;5;241;43m10\u001b[39;49m\u001b[43m,\u001b[49m\u001b[43m \u001b[49m\u001b[43mscoring\u001b[49m\u001b[38;5;241;43m=\u001b[39;49m\u001b[38;5;124;43m'\u001b[39;49m\u001b[38;5;124;43maccuracy\u001b[39;49m\u001b[38;5;124;43m'\u001b[39;49m\u001b[43m)\u001b[49m\u001b[43m)\u001b[49m\n",
      "File \u001b[0;32m~/anaconda3/lib/python3.10/site-packages/sklearn/base.py:238\u001b[0m, in \u001b[0;36mBaseEstimator.__repr__\u001b[0;34m(self, N_CHAR_MAX)\u001b[0m\n\u001b[1;32m    230\u001b[0m \u001b[38;5;66;03m# use ellipsis for sequences with a lot of elements\u001b[39;00m\n\u001b[1;32m    231\u001b[0m pp \u001b[38;5;241m=\u001b[39m _EstimatorPrettyPrinter(\n\u001b[1;32m    232\u001b[0m     compact\u001b[38;5;241m=\u001b[39m\u001b[38;5;28;01mTrue\u001b[39;00m,\n\u001b[1;32m    233\u001b[0m     indent\u001b[38;5;241m=\u001b[39m\u001b[38;5;241m1\u001b[39m,\n\u001b[1;32m    234\u001b[0m     indent_at_name\u001b[38;5;241m=\u001b[39m\u001b[38;5;28;01mTrue\u001b[39;00m,\n\u001b[1;32m    235\u001b[0m     n_max_elements_to_show\u001b[38;5;241m=\u001b[39mN_MAX_ELEMENTS_TO_SHOW,\n\u001b[1;32m    236\u001b[0m )\n\u001b[0;32m--> 238\u001b[0m repr_ \u001b[38;5;241m=\u001b[39m \u001b[43mpp\u001b[49m\u001b[38;5;241;43m.\u001b[39;49m\u001b[43mpformat\u001b[49m\u001b[43m(\u001b[49m\u001b[38;5;28;43mself\u001b[39;49m\u001b[43m)\u001b[49m\n\u001b[1;32m    240\u001b[0m \u001b[38;5;66;03m# Use bruteforce ellipsis when there are a lot of non-blank characters\u001b[39;00m\n\u001b[1;32m    241\u001b[0m n_nonblank \u001b[38;5;241m=\u001b[39m \u001b[38;5;28mlen\u001b[39m(\u001b[38;5;124m\"\u001b[39m\u001b[38;5;124m\"\u001b[39m\u001b[38;5;241m.\u001b[39mjoin(repr_\u001b[38;5;241m.\u001b[39msplit()))\n",
      "File \u001b[0;32m~/anaconda3/lib/python3.10/pprint.py:157\u001b[0m, in \u001b[0;36mPrettyPrinter.pformat\u001b[0;34m(self, object)\u001b[0m\n\u001b[1;32m    155\u001b[0m \u001b[38;5;28;01mdef\u001b[39;00m \u001b[38;5;21mpformat\u001b[39m(\u001b[38;5;28mself\u001b[39m, \u001b[38;5;28mobject\u001b[39m):\n\u001b[1;32m    156\u001b[0m     sio \u001b[38;5;241m=\u001b[39m _StringIO()\n\u001b[0;32m--> 157\u001b[0m     \u001b[38;5;28;43mself\u001b[39;49m\u001b[38;5;241;43m.\u001b[39;49m\u001b[43m_format\u001b[49m\u001b[43m(\u001b[49m\u001b[38;5;28;43mobject\u001b[39;49m\u001b[43m,\u001b[49m\u001b[43m \u001b[49m\u001b[43msio\u001b[49m\u001b[43m,\u001b[49m\u001b[43m \u001b[49m\u001b[38;5;241;43m0\u001b[39;49m\u001b[43m,\u001b[49m\u001b[43m \u001b[49m\u001b[38;5;241;43m0\u001b[39;49m\u001b[43m,\u001b[49m\u001b[43m \u001b[49m\u001b[43m{\u001b[49m\u001b[43m}\u001b[49m\u001b[43m,\u001b[49m\u001b[43m \u001b[49m\u001b[38;5;241;43m0\u001b[39;49m\u001b[43m)\u001b[49m\n\u001b[1;32m    158\u001b[0m     \u001b[38;5;28;01mreturn\u001b[39;00m sio\u001b[38;5;241m.\u001b[39mgetvalue()\n",
      "File \u001b[0;32m~/anaconda3/lib/python3.10/pprint.py:174\u001b[0m, in \u001b[0;36mPrettyPrinter._format\u001b[0;34m(self, object, stream, indent, allowance, context, level)\u001b[0m\n\u001b[1;32m    172\u001b[0m     \u001b[38;5;28mself\u001b[39m\u001b[38;5;241m.\u001b[39m_readable \u001b[38;5;241m=\u001b[39m \u001b[38;5;28;01mFalse\u001b[39;00m\n\u001b[1;32m    173\u001b[0m     \u001b[38;5;28;01mreturn\u001b[39;00m\n\u001b[0;32m--> 174\u001b[0m rep \u001b[38;5;241m=\u001b[39m \u001b[38;5;28;43mself\u001b[39;49m\u001b[38;5;241;43m.\u001b[39;49m\u001b[43m_repr\u001b[49m\u001b[43m(\u001b[49m\u001b[38;5;28;43mobject\u001b[39;49m\u001b[43m,\u001b[49m\u001b[43m \u001b[49m\u001b[43mcontext\u001b[49m\u001b[43m,\u001b[49m\u001b[43m \u001b[49m\u001b[43mlevel\u001b[49m\u001b[43m)\u001b[49m\n\u001b[1;32m    175\u001b[0m max_width \u001b[38;5;241m=\u001b[39m \u001b[38;5;28mself\u001b[39m\u001b[38;5;241m.\u001b[39m_width \u001b[38;5;241m-\u001b[39m indent \u001b[38;5;241m-\u001b[39m allowance\n\u001b[1;32m    176\u001b[0m \u001b[38;5;28;01mif\u001b[39;00m \u001b[38;5;28mlen\u001b[39m(rep) \u001b[38;5;241m>\u001b[39m max_width:\n",
      "File \u001b[0;32m~/anaconda3/lib/python3.10/pprint.py:454\u001b[0m, in \u001b[0;36mPrettyPrinter._repr\u001b[0;34m(self, object, context, level)\u001b[0m\n\u001b[1;32m    453\u001b[0m \u001b[38;5;28;01mdef\u001b[39;00m \u001b[38;5;21m_repr\u001b[39m(\u001b[38;5;28mself\u001b[39m, \u001b[38;5;28mobject\u001b[39m, context, level):\n\u001b[0;32m--> 454\u001b[0m     \u001b[38;5;28mrepr\u001b[39m, readable, recursive \u001b[38;5;241m=\u001b[39m \u001b[38;5;28;43mself\u001b[39;49m\u001b[38;5;241;43m.\u001b[39;49m\u001b[43mformat\u001b[49m\u001b[43m(\u001b[49m\u001b[38;5;28;43mobject\u001b[39;49m\u001b[43m,\u001b[49m\u001b[43m \u001b[49m\u001b[43mcontext\u001b[49m\u001b[38;5;241;43m.\u001b[39;49m\u001b[43mcopy\u001b[49m\u001b[43m(\u001b[49m\u001b[43m)\u001b[49m\u001b[43m,\u001b[49m\n\u001b[1;32m    455\u001b[0m \u001b[43m                                            \u001b[49m\u001b[38;5;28;43mself\u001b[39;49m\u001b[38;5;241;43m.\u001b[39;49m\u001b[43m_depth\u001b[49m\u001b[43m,\u001b[49m\u001b[43m \u001b[49m\u001b[43mlevel\u001b[49m\u001b[43m)\u001b[49m\n\u001b[1;32m    456\u001b[0m     \u001b[38;5;28;01mif\u001b[39;00m \u001b[38;5;129;01mnot\u001b[39;00m readable:\n\u001b[1;32m    457\u001b[0m         \u001b[38;5;28mself\u001b[39m\u001b[38;5;241m.\u001b[39m_readable \u001b[38;5;241m=\u001b[39m \u001b[38;5;28;01mFalse\u001b[39;00m\n",
      "File \u001b[0;32m~/anaconda3/lib/python3.10/site-packages/sklearn/utils/_pprint.py:189\u001b[0m, in \u001b[0;36m_EstimatorPrettyPrinter.format\u001b[0;34m(self, object, context, maxlevels, level)\u001b[0m\n\u001b[1;32m    188\u001b[0m \u001b[38;5;28;01mdef\u001b[39;00m \u001b[38;5;21mformat\u001b[39m(\u001b[38;5;28mself\u001b[39m, \u001b[38;5;28mobject\u001b[39m, context, maxlevels, level):\n\u001b[0;32m--> 189\u001b[0m     \u001b[38;5;28;01mreturn\u001b[39;00m \u001b[43m_safe_repr\u001b[49m\u001b[43m(\u001b[49m\n\u001b[1;32m    190\u001b[0m \u001b[43m        \u001b[49m\u001b[38;5;28;43mobject\u001b[39;49m\u001b[43m,\u001b[49m\u001b[43m \u001b[49m\u001b[43mcontext\u001b[49m\u001b[43m,\u001b[49m\u001b[43m \u001b[49m\u001b[43mmaxlevels\u001b[49m\u001b[43m,\u001b[49m\u001b[43m \u001b[49m\u001b[43mlevel\u001b[49m\u001b[43m,\u001b[49m\u001b[43m \u001b[49m\u001b[43mchanged_only\u001b[49m\u001b[38;5;241;43m=\u001b[39;49m\u001b[38;5;28;43mself\u001b[39;49m\u001b[38;5;241;43m.\u001b[39;49m\u001b[43m_changed_only\u001b[49m\n\u001b[1;32m    191\u001b[0m \u001b[43m    \u001b[49m\u001b[43m)\u001b[49m\n",
      "File \u001b[0;32m~/anaconda3/lib/python3.10/site-packages/sklearn/utils/_pprint.py:440\u001b[0m, in \u001b[0;36m_safe_repr\u001b[0;34m(object, context, maxlevels, level, changed_only)\u001b[0m\n\u001b[1;32m    438\u001b[0m recursive \u001b[38;5;241m=\u001b[39m \u001b[38;5;28;01mFalse\u001b[39;00m\n\u001b[1;32m    439\u001b[0m \u001b[38;5;28;01mif\u001b[39;00m changed_only:\n\u001b[0;32m--> 440\u001b[0m     params \u001b[38;5;241m=\u001b[39m \u001b[43m_changed_params\u001b[49m\u001b[43m(\u001b[49m\u001b[38;5;28;43mobject\u001b[39;49m\u001b[43m)\u001b[49m\n\u001b[1;32m    441\u001b[0m \u001b[38;5;28;01melse\u001b[39;00m:\n\u001b[1;32m    442\u001b[0m     params \u001b[38;5;241m=\u001b[39m \u001b[38;5;28mobject\u001b[39m\u001b[38;5;241m.\u001b[39mget_params(deep\u001b[38;5;241m=\u001b[39m\u001b[38;5;28;01mFalse\u001b[39;00m)\n",
      "File \u001b[0;32m~/anaconda3/lib/python3.10/site-packages/sklearn/utils/_pprint.py:113\u001b[0m, in \u001b[0;36m_changed_params\u001b[0;34m(estimator)\u001b[0m\n\u001b[1;32m    110\u001b[0m         \u001b[38;5;28;01mreturn\u001b[39;00m \u001b[38;5;28;01mTrue\u001b[39;00m\n\u001b[1;32m    111\u001b[0m     \u001b[38;5;28;01mreturn\u001b[39;00m \u001b[38;5;28;01mFalse\u001b[39;00m\n\u001b[0;32m--> 113\u001b[0m \u001b[38;5;28;01mreturn\u001b[39;00m {k: v \u001b[38;5;28;01mfor\u001b[39;00m k, v \u001b[38;5;129;01min\u001b[39;00m params\u001b[38;5;241m.\u001b[39mitems() \u001b[38;5;28;01mif\u001b[39;00m has_changed(k, v)}\n",
      "File \u001b[0;32m~/anaconda3/lib/python3.10/site-packages/sklearn/utils/_pprint.py:113\u001b[0m, in \u001b[0;36m<dictcomp>\u001b[0;34m(.0)\u001b[0m\n\u001b[1;32m    110\u001b[0m         \u001b[38;5;28;01mreturn\u001b[39;00m \u001b[38;5;28;01mTrue\u001b[39;00m\n\u001b[1;32m    111\u001b[0m     \u001b[38;5;28;01mreturn\u001b[39;00m \u001b[38;5;28;01mFalse\u001b[39;00m\n\u001b[0;32m--> 113\u001b[0m \u001b[38;5;28;01mreturn\u001b[39;00m {k: v \u001b[38;5;28;01mfor\u001b[39;00m k, v \u001b[38;5;129;01min\u001b[39;00m params\u001b[38;5;241m.\u001b[39mitems() \u001b[38;5;28;01mif\u001b[39;00m \u001b[43mhas_changed\u001b[49m\u001b[43m(\u001b[49m\u001b[43mk\u001b[49m\u001b[43m,\u001b[49m\u001b[43m \u001b[49m\u001b[43mv\u001b[49m\u001b[43m)\u001b[49m}\n",
      "File \u001b[0;32m~/anaconda3/lib/python3.10/site-packages/sklearn/utils/_pprint.py:101\u001b[0m, in \u001b[0;36m_changed_params.<locals>.has_changed\u001b[0;34m(k, v)\u001b[0m\n\u001b[1;32m     99\u001b[0m \u001b[38;5;28;01mif\u001b[39;00m k \u001b[38;5;129;01mnot\u001b[39;00m \u001b[38;5;129;01min\u001b[39;00m init_params:  \u001b[38;5;66;03m# happens if k is part of a **kwargs\u001b[39;00m\n\u001b[1;32m    100\u001b[0m     \u001b[38;5;28;01mreturn\u001b[39;00m \u001b[38;5;28;01mTrue\u001b[39;00m\n\u001b[0;32m--> 101\u001b[0m \u001b[38;5;28;01mif\u001b[39;00m init_params[k] \u001b[38;5;241m==\u001b[39m inspect\u001b[38;5;241m.\u001b[39m_empty:  \u001b[38;5;66;03m# k has no default value\u001b[39;00m\n\u001b[1;32m    102\u001b[0m     \u001b[38;5;28;01mreturn\u001b[39;00m \u001b[38;5;28;01mTrue\u001b[39;00m\n\u001b[1;32m    103\u001b[0m \u001b[38;5;66;03m# try to avoid calling repr on nested estimators\u001b[39;00m\n",
      "\u001b[0;31mValueError\u001b[0m: The truth value of an array with more than one element is ambiguous. Use a.any() or a.all()"
     ]
    }
   ],
   "source": [
    "rfc = RandomForestClassifier(n_estimators=100, max_depth=3, random_state=0)\n",
    "print(learning_curve(rfc, X, y, cv=10, scoring='accuracy'))"
   ]
  },
  {
   "cell_type": "markdown",
   "id": "9ed78884",
   "metadata": {},
   "source": [
    "# Save and load model"
   ]
  },
  {
   "cell_type": "code",
   "execution_count": 39,
   "id": "a4ce75ff",
   "metadata": {},
   "outputs": [],
   "source": [
    "import pickle"
   ]
  },
  {
   "cell_type": "code",
   "execution_count": 40,
   "id": "56c80732",
   "metadata": {},
   "outputs": [],
   "source": [
    "os.chdir('/Users/ashleyyan/Downloads/spotify-project')\n",
    "\n",
    "# save the iris classification model as a pickle file\n",
    "model_pkl_file = \"song_mood_classifier.pkl\"  \n",
    "\n",
    "with open(model_pkl_file, 'wb') as file:  \n",
    "    pickle.dump(xgb, file)"
   ]
  },
  {
   "cell_type": "code",
   "execution_count": 19,
   "id": "ec010932",
   "metadata": {},
   "outputs": [
    {
     "name": "stdout",
     "output_type": "stream",
     "text": [
      "XGBClassifier(base_score=None, booster=None, callbacks=None,\n",
      "              colsample_bylevel=None, colsample_bynode=None,\n",
      "              colsample_bytree=None, early_stopping_rounds=None,\n",
      "              enable_categorical=False, eval_metric=None, feature_types=None,\n",
      "              gamma=None, gpu_id=None, grow_policy=None, importance_type=None,\n",
      "              interaction_constraints=None, learning_rate=None, max_bin=None,\n",
      "              max_cat_threshold=None, max_cat_to_onehot=None,\n",
      "              max_delta_step=None, max_depth=None, max_leaves=None,\n",
      "              min_child_weight=None, missing=nan, monotone_constraints=None,\n",
      "              n_estimators=100, n_jobs=None, num_parallel_tree=None,\n",
      "              objective='multi:softprob', predictor=None, ...)\n"
     ]
    }
   ],
   "source": [
    "# loading the model\n",
    "pickle_path = \"/Users/ashleyyan/Downloads/spotify-project/song_mood_classifier.pkl\"\n",
    "with open(pickle_path, \"rb\") as file:\n",
    "    model = pickle.load(file)\n",
    "print(model)"
   ]
  },
  {
   "cell_type": "markdown",
   "id": "82fa32dc",
   "metadata": {},
   "source": [
    "# Backend (fetch songs and return predicted moods)"
   ]
  },
  {
   "cell_type": "code",
   "execution_count": 20,
   "id": "71141610",
   "metadata": {},
   "outputs": [],
   "source": [
    "client_id = \"f56491e8d99045a7b861143d2976beb6\"\n",
    "client_secret = \"24df9f28b7ba4f6db82e0bcdeb1b5af5\""
   ]
  },
  {
   "cell_type": "code",
   "execution_count": 21,
   "id": "3c4667a1",
   "metadata": {},
   "outputs": [],
   "source": [
    "def get_token():\n",
    "    auth_string = client_id + \":\" + client_secret\n",
    "    auth_bytes = auth_string.encode(\"utf-8\")\n",
    "    auth_base64 = str(base64.b64encode(auth_bytes), \"utf-8\")\n",
    "\n",
    "    url = \"https://accounts.spotify.com/api/token\"\n",
    "    headers = {\n",
    "        \"Authorization\": \"Basic \" + auth_base64,\n",
    "        \"Content-Type\": \"application/x-www-form-urlencoded\"\n",
    "    }\n",
    "    data = {\"grant_type\": \"client_credentials\"}\n",
    "    result = post(url, headers = headers, data = data)\n",
    "    json_result = json.loads(result.content)\n",
    "    token = json_result[\"access_token\"]\n",
    "    return token\n",
    "\n",
    "def get_auth_header(token):\n",
    "    return {\"Authorization\": \"Bearer \" + token}\n",
    "\n",
    "def get_playlist(token, playlist_id):\n",
    "    results = []\n",
    "    \n",
    "    url = f\"https://api.spotify.com/v1/playlists/{playlist_id}/tracks\"\n",
    "    headers = get_auth_header(token)\n",
    "    result = get(url, headers = headers)\n",
    "    if result.status_code != 200:\n",
    "        print(f'{playlist_id} error') \n",
    "    json_result = json.loads(result.content)['tracks']\n",
    "    results.append(json_result)\n",
    "    \n",
    "    total = json_result['total']\n",
    "    calls = math.ceil(total/100.0) - 1\n",
    "    for x in range(calls):\n",
    "        url = json_result['next']\n",
    "        result = get(url, headers = headers)\n",
    "        if result.status_code != 200:\n",
    "            print(f'{playlist_id} error') \n",
    "        results.append(json.loads(result.content))\n",
    "    return(results)\n",
    "\n",
    "def get_track_ids(playlist):\n",
    "    ids = []\n",
    "    for track in playlist['items']:\n",
    "        if track['track'] is not None:\n",
    "            id = track['track']['id']\n",
    "        ids.append(id)\n",
    "    return ids\n",
    "    \n",
    "def get_audio_features(token, track_id):\n",
    "    url = f'https://api.spotify.com/v1/audio-features/{track_id}'\n",
    "    headers = get_auth_header(token)\n",
    "    result = get(url, headers = headers)\n",
    "    if result is None:\n",
    "            print(f'{track_id} error') \n",
    "    json_result = json.loads(result.content)\n",
    "    return json_result\n",
    "\n",
    "def get_song_info(token, track_id):\n",
    "    url = f'https://api.spotify.com/v1/audio-features/{track_id}'\n",
    "    headers = get_auth_header(token)\n",
    "    result = get(url, headers = headers)\n",
    "    if result is None:\n",
    "            print(f'{track_id} error') \n",
    "    json_result = json.loads(result.content)\n",
    "    return json_result"
   ]
  },
  {
   "cell_type": "code",
   "execution_count": 22,
   "id": "2ab00601",
   "metadata": {},
   "outputs": [],
   "source": [
    "def get_audio_features_df(playlist_id):\n",
    "    token = get_token()\n",
    "    playlist = get_playlist(token, playlist_id)\n",
    "    ids = get_track_ids(playlist[0])\n",
    "    features = []\n",
    "    for track in ids:\n",
    "        info = get_audio_features(token, track)\n",
    "        features.append(info)\n",
    "        \n",
    "    # create dataframe\n",
    "    duration = []\n",
    "    danceability = []\n",
    "    energy = []\n",
    "    loudness = []\n",
    "    speechiness = []\n",
    "    acousticness = []\n",
    "    instrumentalness = []\n",
    "    liveness = []\n",
    "    valence = []\n",
    "    tempo = []\n",
    "    uri = []\n",
    "\n",
    "    for song in features:\n",
    "        try: \n",
    "            duration.append(song['duration_ms'])\n",
    "            danceability.append(song['danceability'])\n",
    "            energy.append(song['energy'])\n",
    "            loudness.append(song['loudness'])\n",
    "            speechiness.append(song['speechiness'])\n",
    "            acousticness.append(song['acousticness'])\n",
    "            instrumentalness.append(song['instrumentalness'])\n",
    "            liveness.append(song['liveness'])\n",
    "            valence.append(song['valence'])\n",
    "            tempo.append(song['tempo'])\n",
    "            uri.append(song['uri'])\n",
    "        except:\n",
    "            duration.append(None)\n",
    "            danceability.append(None)\n",
    "            energy.append(None)\n",
    "            loudness.append(None)\n",
    "            speechiness.append(None)\n",
    "            acousticness.append(None)\n",
    "            instrumentalness.append(None)\n",
    "            liveness.append(None)\n",
    "            valence.append(None)\n",
    "            tempo.append(None)\n",
    "            uri.append(None)\n",
    "    dictionary = {'duration_ms': duration, 'danceability': danceability, 'energy': energy, 'loudness': loudness,\n",
    "              'speechiness': speechiness, 'acousticness': acousticness, 'instrumentalness': instrumentalness, \n",
    "              'liveness': liveness, 'valence': valence, 'tempo': tempo, 'uri': uri}\n",
    "    df = pd.DataFrame(dictionary)\n",
    "    return df"
   ]
  },
  {
   "cell_type": "code",
   "execution_count": 23,
   "id": "0b9e07cf",
   "metadata": {},
   "outputs": [],
   "source": [
    "def get_mood_distribution(df):\n",
    "    df = df.drop(['uri'], axis=1)\n",
    "    predictions = model.predict(df)\n",
    "    return predictions"
   ]
  },
  {
   "cell_type": "code",
   "execution_count": 24,
   "id": "611f800d",
   "metadata": {},
   "outputs": [],
   "source": [
    "def get_song_info_list(token, track_ids):\n",
    "    all_tracks = []\n",
    "    batches = [track_ids[i:i + 50] for i in range(0, len(track_ids), 50)]\n",
    "    headers = get_auth_header(token)\n",
    "    for batch in batches:\n",
    "        params = {\n",
    "            'ids': ','.join(batch)\n",
    "        }\n",
    "        response = get('https://api.spotify.com/v1/tracks', headers=headers, params=params)\n",
    "        all_tracks.append(response.json()['tracks'])\n",
    "    return all_tracks"
   ]
  },
  {
   "cell_type": "code",
   "execution_count": 25,
   "id": "74181c13",
   "metadata": {},
   "outputs": [],
   "source": [
    "def get_artist_and_popularity(song_info_list):\n",
    "    song_names = []\n",
    "    artists = []\n",
    "    popularities = []\n",
    "    artist_id = []\n",
    "    for batch in song_info_list:\n",
    "        for song in batch:\n",
    "            song_names.append(song['name'])\n",
    "            artists.append(song['album']['artists'][0]['name'])\n",
    "            artist_id.append(song['artists'][0]['id'])\n",
    "            popularities.append(song['popularity'])\n",
    "    dictionary = {'song_name':song_names, 'artist':artists, 'song_popularity':popularities, 'artist_id':artist_id}\n",
    "    return pd.DataFrame(dictionary)"
   ]
  },
  {
   "cell_type": "code",
   "execution_count": 26,
   "id": "4682d71d",
   "metadata": {},
   "outputs": [],
   "source": [
    "token = get_token()\n",
    "playlist = get_playlist(token, '1Fqvgp5eqjIfPEqxBmd5WJ?si=50f446c49d6641cc')\n",
    "ids = get_track_ids(playlist[0])\n",
    "song_info_list = get_song_info_list(token, ids)\n",
    "artist_and_popularity_df = get_artist_and_popularity(song_info_list)"
   ]
  },
  {
   "cell_type": "code",
   "execution_count": 27,
   "id": "109b8bee",
   "metadata": {},
   "outputs": [],
   "source": [
    "def get_artist_info(artist_df):\n",
    "    names = []\n",
    "    followers = []\n",
    "    genres = []\n",
    "    popularities = []\n",
    "    counts = []\n",
    "\n",
    "    token = get_token()\n",
    "    headers = get_auth_header(token)\n",
    "    artist_ids = artist_df['artist_id'].to_list()\n",
    "    \n",
    "    artist_info_cache = {}\n",
    "    artist_counts = artist_df['artist_id'].value_counts().to_dict()\n",
    "    \n",
    "    for id, count in artist_counts.items():\n",
    "        if id not in artist_info_cache:\n",
    "            url = f'https://api.spotify.com/v1/artists/{id}'\n",
    "            response = get(url, headers=headers).json()\n",
    "            artist_info_cache[id] = {\n",
    "                'name': response['name'],\n",
    "                'followers': response['followers']['total'],\n",
    "                'genres': response['genres'],\n",
    "                'popularity': response['popularity']\n",
    "            }\n",
    "            \n",
    "            names.append(artist_info_cache[id]['name'])\n",
    "            followers.append(artist_info_cache[id]['followers'])\n",
    "            genres.append(artist_info_cache[id]['genres'])\n",
    "            popularities.append(artist_info_cache[id]['popularity'])\n",
    "            counts.append(count)\n",
    "    dictionary = {'name': names, 'followers': followers, 'genres': genres, 'popularity': popularities,\n",
    "                  'count': counts}\n",
    "    return pd.DataFrame(dictionary)"
   ]
  },
  {
   "cell_type": "code",
   "execution_count": null,
   "id": "d06bfb99",
   "metadata": {},
   "outputs": [],
   "source": [
    "token = get_token()\n",
    "playlist = get_playlist(token, '7dO5adNMqOjkindQEXTXE5?si=d4802c2c0ef943fb')\n",
    "ids = get_track_ids(playlist[0])\n",
    "song_info_list = get_song_info_list(token, ids)\n",
    "artist_and_popularity_df = get_artist_and_popularity(song_info_list)"
   ]
  },
  {
   "cell_type": "code",
   "execution_count": null,
   "id": "bd694785",
   "metadata": {},
   "outputs": [],
   "source": []
  }
 ],
 "metadata": {
  "kernelspec": {
   "display_name": "Python 3 (ipykernel)",
   "language": "python",
   "name": "python3"
  },
  "language_info": {
   "codemirror_mode": {
    "name": "ipython",
    "version": 3
   },
   "file_extension": ".py",
   "mimetype": "text/x-python",
   "name": "python",
   "nbconvert_exporter": "python",
   "pygments_lexer": "ipython3",
   "version": "3.10.9"
  }
 },
 "nbformat": 4,
 "nbformat_minor": 5
}
